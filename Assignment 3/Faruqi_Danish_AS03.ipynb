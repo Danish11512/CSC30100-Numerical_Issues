{
 "cells": [
  {
   "cell_type": "code",
   "execution_count": 22,
   "metadata": {},
   "outputs": [],
   "source": [
    "import math\n",
    "import time "
   ]
  },
  {
   "cell_type": "markdown",
   "metadata": {},
   "source": [
    "Summation Functions "
   ]
  },
  {
   "cell_type": "code",
   "execution_count": 23,
   "metadata": {},
   "outputs": [],
   "source": [
    "# Exact Value Function \n",
    "def ExactValue(n):\n",
    "    return n*math.e\n",
    "\n",
    "# Naive Summation Function \n",
    "def NaiveSummation(n):\n",
    "    sum = 0\n",
    "    for i in range(0, n):\n",
    "        sum += math.e \n",
    "    return sum\n",
    "\n",
    "# Compensated Summation Function \n",
    "def CompensatedSummation(n):\n",
    "    sum = c = 0\n",
    "    for i in range(1, n+1):\n",
    "        y = math.e - c\n",
    "        temp = sum + y\n",
    "        c = ( temp - sum ) - y \n",
    "        sum = temp\n",
    "    return sum \n"
   ]
  },
  {
   "cell_type": "markdown",
   "metadata": {},
   "source": [
    "Exact Values Calculated"
   ]
  },
  {
   "cell_type": "code",
   "execution_count": 24,
   "metadata": {},
   "outputs": [
    {
     "name": "stdout",
     "output_type": "stream",
     "text": [
      "Extact value for 10^6 is  2718281.828459045\n",
      "Extact value for 10^7 is  27182818.28459045\n",
      "Extact value for 10^8 is  271828182.8459045\n",
      "Extact value for 10^9 is  2718281828.459045\n"
     ]
    }
   ],
   "source": [
    "N1 = int(math.pow(10,6))\n",
    "E1 = ExactValue(N1)\n",
    "print('Extact value for 10^6 is ', E1)\n",
    "\n",
    "N2 = int(math.pow(10,7))\n",
    "E2 = ExactValue(N2)\n",
    "print('Extact value for 10^7 is ', E2)\n",
    "\n",
    "N3 = int(math.pow(10,8))\n",
    "E3 = ExactValue(N3)\n",
    "print('Extact value for 10^8 is ', E3)\n",
    "\n",
    "N4 = int(math.pow(10,9))\n",
    "E4 = ExactValue(N4)\n",
    "print('Extact value for 10^9 is ', E4)"
   ]
  },
  {
   "cell_type": "markdown",
   "metadata": {},
   "source": [
    "Summations Calculated"
   ]
  },
  {
   "cell_type": "code",
   "execution_count": 25,
   "metadata": {},
   "outputs": [],
   "source": [
    "# Compensated Summations\n",
    "\n",
    "starttime = time.time()\n",
    "compensated1 = CompensatedSummation(N1)\n",
    "endtime = time.time()\n",
    "elapsedtimeC1 = endtime - starttime\n",
    "\n",
    "\n",
    "starttime = time.time()\n",
    "compensated2 = CompensatedSummation(N2)\n",
    "endtime = time.time()\n",
    "elapsedtimeC2 = endtime - starttime\n",
    "\n",
    "\n",
    "starttime = time.time()\n",
    "compensated3 = CompensatedSummation(N3)\n",
    "endtime = time.time()\n",
    "elapsedtimeC3 = endtime - starttime\n",
    "\n",
    "\n",
    "starttime = time.time()\n",
    "compensated4 = CompensatedSummation(N4)\n",
    "endtime = time.time()\n",
    "elapsedtimeC4 = endtime - starttime\n",
    "\n",
    "# Naive Summations\n",
    "\n",
    "starttime = time.time()\n",
    "naive1 = NaiveSummation(N1)\n",
    "endtime = time.time()\n",
    "elapsedtimeN1 = endtime - starttime\n",
    "\n",
    "starttime = time.time()\n",
    "naive2 = NaiveSummation(N2)\n",
    "endtime = time.time()\n",
    "elapsedtimeN2 = endtime - starttime\n",
    "\n",
    "starttime = time.time()\n",
    "naive3 = NaiveSummation(N3)\n",
    "endtime = time.time()\n",
    "elapsedtimeN3 = endtime - starttime\n",
    "\n",
    "starttime = time.time()\n",
    "naive4 = NaiveSummation(N4)\n",
    "endtime = time.time()\n",
    "elapsedtimeN4 = endtime - starttime\n"
   ]
  },
  {
   "cell_type": "markdown",
   "metadata": {},
   "source": [
    "Printing Table"
   ]
  },
  {
   "cell_type": "code",
   "execution_count": 26,
   "metadata": {},
   "outputs": [
    {
     "data": {
      "text/html": [
       "<table><tr><td>Summation Method</td><td>Sum</td><td>Relative Error</td><td>Absolute Error</td><td>Elapsed Time</td></tr><tr><td>Naive Summation for N = 10^6</td><td>2718281.828467976</td><td>8.930917829275131e-06</td><td>8.930917829275131e-06</td><td>0.10948300361633301</td></tr><tr><td>Compensated Summation for N = 10^6</td><td>2718281.828459045</td><td>0.0</td><td>0.0</td><td>0.1659390926361084</td></tr><tr><td>Naive Summation for N = 10^7</td><td>27182818.280961137</td><td>-0.0036293119192123413</td><td>0.0036293119192123413</td><td>0.97381591796875</td></tr><tr><td>Compensated Summation for N = 10^7</td><td>27182818.28459045</td><td>0.0</td><td>0.0</td><td>1.2718429565429688</td></tr><tr><td>Naive Summation for N = 10^8</td><td>271828183.31291556</td><td>0.467011034488678</td><td>0.467011034488678</td><td>8.323201894760132</td></tr><tr><td>Compensated Summation for N = 10^8</td><td>271828182.8459045</td><td>0.0</td><td>0.0</td><td>12.833061695098877</td></tr><tr><td>Naive Summation for N = 10^9</td><td>2718281783.988457</td><td>-44.470587730407715</td><td>44.470587730407715</td><td>74.44640612602234</td></tr><tr><td>Compensated Summation for N = 10^9</td><td>2718281828.459045</td><td>0.0</td><td>0.0</td><td>132.93416929244995</td></tr></table>"
      ],
      "text/plain": [
       "<IPython.core.display.HTML object>"
      ]
     },
     "metadata": {},
     "output_type": "display_data"
    }
   ],
   "source": [
    "from IPython.display import HTML, display\n",
    "\n",
    "table = [['Summation Method', 'Sum', 'Relative Error', 'Absolute Error', 'Elapsed Time'],\n",
    "        ['Naive Summation for N = 10^6', naive1, naive1 - E1 , abs(naive1 - E1) ,elapsedtimeN1],\n",
    "        ['Compensated Summation for N = 10^6', compensated1, compensated1 - E1 , abs(compensated1 - E1) ,elapsedtimeC1], \n",
    "        ['Naive Summation for N = 10^7', naive2, naive2 - E2 , abs(naive2 - E2) ,elapsedtimeN2],\n",
    "        ['Compensated Summation for N = 10^7', compensated2, compensated2 - E2 , abs(compensated2 - E2) ,elapsedtimeC2],\n",
    "        ['Naive Summation for N = 10^8', naive3, naive3 - E3 , abs(naive3 - E3) ,elapsedtimeN3],\n",
    "        ['Compensated Summation for N = 10^8', compensated3, compensated3 - E3 , abs(compensated3 - E3) ,elapsedtimeC3], \n",
    "        ['Naive Summation for N = 10^9', naive4, naive4 - E4 , abs(naive4 - E4) ,elapsedtimeN4], \n",
    "        ['Compensated Summation for N = 10^9', compensated4, compensated4 - E4 , abs(compensated4 - E4) ,elapsedtimeC4] ]\n",
    "\n",
    "display(HTML(\n",
    "   '<table><tr>{}</tr></table>'.format(\n",
    "       '</tr><tr>'.join(\n",
    "           '<td>{}</td>'.format('</td><td>'.join(str(_) for _ in row)) for row in table)\n",
    "       )\n",
    "))"
   ]
  },
  {
   "cell_type": "markdown",
   "metadata": {},
   "source": [
    "We can see that compensated summation's relative and absolute errors are 0. This applies to all four values of N. The errors are consistent with the expressions for errors that we discussed in class. The actaul errors are significantly less than the theoritical bounds. Naive Summation produced errors, however it was much faster compared to Compensated Summation. This is beause with Copmensated Summation we had to deal with the the error bound, or the lost digits that were forgotten in Naive Summation. This led to bigger calculation times with bigger Ns.  "
   ]
  }
 ],
 "metadata": {
  "kernelspec": {
   "display_name": "Python 3",
   "language": "python",
   "name": "python3"
  },
  "language_info": {
   "codemirror_mode": {
    "name": "ipython",
    "version": 3
   },
   "file_extension": ".py",
   "mimetype": "text/x-python",
   "name": "python",
   "nbconvert_exporter": "python",
   "pygments_lexer": "ipython3",
   "version": "3.7.3"
  }
 },
 "nbformat": 4,
 "nbformat_minor": 2
}
