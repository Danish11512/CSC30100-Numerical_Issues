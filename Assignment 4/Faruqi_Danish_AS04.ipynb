{
 "cells": [
  {
   "cell_type": "markdown",
   "metadata": {},
   "source": [
    "# Taylor Polynomials "
   ]
  },
  {
   "cell_type": "markdown",
   "metadata": {},
   "source": [
    "## Declaring all the things I need "
   ]
  },
  {
   "cell_type": "markdown",
   "metadata": {},
   "source": [
    "For this assignment we are going to calculate the values of sine, e^x, cosh at x = 1/4, 1/2, 1, 2, at differnet ends and measure the accuracy. "
   ]
  },
  {
   "cell_type": "code",
   "execution_count": 201,
   "metadata": {},
   "outputs": [],
   "source": [
    "from math import sin, cos, cosh, sinh, exp, factorial\n",
    "from fractions import Fraction\n",
    "\n",
    "\n",
    "x1 = Fraction(1, 4)\n",
    "x2 = Fraction(1, 2)\n",
    "x3 = 1\n",
    "x4 = 2\n",
    "\n",
    "n1 = 4\n",
    "n2 = 16\n",
    "n3 = 64"
   ]
  },
  {
   "cell_type": "markdown",
   "metadata": {},
   "source": [
    "## Finding Exact Values"
   ]
  },
  {
   "cell_type": "markdown",
   "metadata": {},
   "source": [
    "Since the math library provides us with exact values of these functinos we're going to use that to get the exact values. "
   ]
  },
  {
   "cell_type": "markdown",
   "metadata": {},
   "source": [
    "##### Exact Values of Sin(x)"
   ]
  },
  {
   "cell_type": "code",
   "execution_count": 202,
   "metadata": {},
   "outputs": [
    {
     "name": "stdout",
     "output_type": "stream",
     "text": [
      "Exact Value for sin(1/4):\n",
      "0.24740395925452294 \n",
      "\n",
      "Exact Value for sin(1/2):\n",
      "0.479425538604203 \n",
      "\n",
      "Exact Value for sin(1):\n",
      "0.8414709848078965 \n",
      "\n",
      "Exact Value for sin(2):\n",
      "0.9092974268256817 \n",
      "\n"
     ]
    }
   ],
   "source": [
    "print(\"Exact Value for sin(1/4):\")\n",
    "exactsinx1 = sin(x1)\n",
    "print(exactsinx1, \"\\n\")\n",
    "\n",
    "print(\"Exact Value for sin(1/2):\")\n",
    "exactsinx2 = sin(x2)\n",
    "print(exactsinx2, \"\\n\")\n",
    "\n",
    "print(\"Exact Value for sin(1):\")\n",
    "exactsinx3 = sin(x3)\n",
    "print(exactsinx3, \"\\n\")\n",
    "\n",
    "print(\"Exact Value for sin(2):\")\n",
    "exactsinx4 = sin(x4)\n",
    "print(exactsinx4, \"\\n\")"
   ]
  },
  {
   "cell_type": "markdown",
   "metadata": {},
   "source": [
    "##### Exact Values of Exp(x) "
   ]
  },
  {
   "cell_type": "code",
   "execution_count": 203,
   "metadata": {},
   "outputs": [
    {
     "name": "stdout",
     "output_type": "stream",
     "text": [
      "Exact Values for exp(1/4):\n",
      "1.2840254166877414 \n",
      "\n",
      "Exact Values for exp(1/2):\n",
      "1.6487212707001282 \n",
      "\n",
      "Exact Values for exp(1):\n",
      "2.718281828459045 \n",
      "\n",
      "Exact Values for exp(2):\n",
      "7.38905609893065 \n",
      "\n"
     ]
    }
   ],
   "source": [
    "print(\"Exact Values for exp(1/4):\")\n",
    "exactexp1 = exp(x1)\n",
    "print(exactexp1, \"\\n\")\n",
    "\n",
    "print(\"Exact Values for exp(1/2):\")\n",
    "exactexp2 = exp(x2)\n",
    "print(exactexp2, \"\\n\")\n",
    "\n",
    "print(\"Exact Values for exp(1):\")\n",
    "exactexp3 = exp(x3)\n",
    "print(exactexp3, \"\\n\")\n",
    "\n",
    "print(\"Exact Values for exp(2):\")\n",
    "exactexp4 = exp(x4)\n",
    "print(exactexp4, \"\\n\")"
   ]
  },
  {
   "cell_type": "markdown",
   "metadata": {},
   "source": [
    "###### Exact Values of Cosh(x)"
   ]
  },
  {
   "cell_type": "code",
   "execution_count": 204,
   "metadata": {},
   "outputs": [
    {
     "name": "stdout",
     "output_type": "stream",
     "text": [
      "Exact Calues for cosh(1/4):\n",
      "1.0314130998795732 \n",
      "\n",
      "Exact Calues for cosh(1/2):\n",
      "1.1276259652063807 \n",
      "\n",
      "Exact Calues for cosh(1):\n",
      "1.5430806348152437 \n",
      "\n",
      "Exact Calues for cosh(2):\n",
      "3.7621956910836314 \n",
      "\n"
     ]
    }
   ],
   "source": [
    "print(\"Exact Calues for cosh(1/4):\")\n",
    "exactcoshx1 = cosh(x1)\n",
    "print(exactcoshx1, \"\\n\")\n",
    "\n",
    "print(\"Exact Calues for cosh(1/2):\")\n",
    "exactcoshx2 = cosh(x2)\n",
    "print(exactcoshx2, \"\\n\")\n",
    "\n",
    "print(\"Exact Calues for cosh(1):\")\n",
    "exactcoshx3 = cosh(x3)\n",
    "print(exactcoshx3, \"\\n\")\n",
    "\n",
    "print(\"Exact Calues for cosh(2):\")\n",
    "exactcoshx4 = cosh(x4)\n",
    "print(exactcoshx4, \"\\n\")"
   ]
  },
  {
   "cell_type": "markdown",
   "metadata": {},
   "source": [
    "## Derivatives "
   ]
  },
  {
   "cell_type": "markdown",
   "metadata": {},
   "source": [
    "Since we know that these functions have a pattern to their derivatives, we're going to use that to define them at the kth derivative  "
   ]
  },
  {
   "cell_type": "markdown",
   "metadata": {},
   "source": [
    "#### Sin(x)"
   ]
  },
  {
   "cell_type": "code",
   "execution_count": 205,
   "metadata": {},
   "outputs": [],
   "source": [
    "def dersin(k):\n",
    "    if k % 4 == 0:  # Since it repeats every 4th time it's easier to find out that way\n",
    "        return sin(0)  # sin (0) == 0, but im not using this, instead I want to show the function\n",
    "    if k % 4 == 1:\n",
    "        return cos(0)\n",
    "    if k % 4 == 2:\n",
    "        return (-1) * sin(0)  # It's -sin but -sin(0) is just 0, no need for the -\n",
    "    if k % 4 == 3:\n",
    "        return (-1) * cos(0)"
   ]
  },
  {
   "cell_type": "markdown",
   "metadata": {},
   "source": [
    "#### Exp(x)"
   ]
  },
  {
   "cell_type": "code",
   "execution_count": 206,
   "metadata": {},
   "outputs": [],
   "source": [
    "def derexp(k):\n",
    "    return exp(0)"
   ]
  },
  {
   "cell_type": "markdown",
   "metadata": {},
   "source": [
    "#### Cosh(x)"
   ]
  },
  {
   "cell_type": "code",
   "execution_count": 207,
   "metadata": {},
   "outputs": [],
   "source": [
    "def dercosh(k):\n",
    "    if k % 2 == 0:  # cosh's derivatives repeat every two times, so it's more like finding if it's even or odd\n",
    "        return cosh(0)\n",
    "    if k % 2 == 1:\n",
    "        return sinh(0)"
   ]
  },
  {
   "cell_type": "markdown",
   "metadata": {},
   "source": [
    "## Taylor Functions "
   ]
  },
  {
   "cell_type": "markdown",
   "metadata": {},
   "source": [
    "#### Sin(x)"
   ]
  },
  {
   "cell_type": "code",
   "execution_count": 208,
   "metadata": {},
   "outputs": [],
   "source": [
    "def taylorsin(x, n):\n",
    "    result = 0\n",
    "    for k in range(n + 1):\n",
    "        result = result + (dersin(k) / factorial(k)) * pow(x, k)\n",
    "    return result"
   ]
  },
  {
   "cell_type": "markdown",
   "metadata": {},
   "source": [
    "#### Exp(x)"
   ]
  },
  {
   "cell_type": "code",
   "execution_count": 209,
   "metadata": {},
   "outputs": [],
   "source": [
    "def taylorexp(x, n):\n",
    "    result = 0\n",
    "    for k in range(n + 1):\n",
    "        result = result + (derexp(k) / factorial(k)) * pow(x, k)\n",
    "    return result"
   ]
  },
  {
   "cell_type": "markdown",
   "metadata": {},
   "source": [
    "#### Cosh(x)"
   ]
  },
  {
   "cell_type": "code",
   "execution_count": 210,
   "metadata": {},
   "outputs": [],
   "source": [
    "def taylorcosh(x, n):\n",
    "    result = 0\n",
    "    for k in range(n + 1):\n",
    "        result = result + (dercosh(k) / factorial(k)) * pow(x, k)\n",
    "    return result"
   ]
  },
  {
   "cell_type": "markdown",
   "metadata": {},
   "source": [
    "## Performing Calculations "
   ]
  },
  {
   "cell_type": "code",
   "execution_count": 211,
   "metadata": {},
   "outputs": [
    {
     "data": {
      "text/html": [
       "<table><tr><td>Function</td><td>X used</td><td>N used</td><td>Value</td><td>Relative error</td><td>Absolute error</td><td>Exact Value</td></tr><tr><td>Sin(x)</td><td>1/4</td><td>Exact</td><td>0.24740395925452294</td><td>0.0</td><td>0.0</td><td>0.24740395925452294</td></tr><tr><td>Sin(x)</td><td>1/4</td><td>4</td><td>0.24739583333333334</td><td>-3.2844749995430756e-05</td><td>3.2844749995430756e-05</td><td>0.24740395925452294</td></tr><tr><td>Sin(x)</td><td>1/4</td><td>16</td><td>0.24740395925452294</td><td>0.0</td><td>0.0</td><td>0.24740395925452294</td></tr><tr><td>Sin(x)</td><td>1/4</td><td>64</td><td>0.24740395925452294</td><td>0.0</td><td>0.0</td><td>0.24740395925452294</td></tr><tr><td>-</td><td>-</td><td>-</td><td>-</td><td>-</td><td>-</td><td>-</td></tr><tr><td>Sin(x)</td><td>1/2</td><td>Exact</td><td>0.479425538604203</td><td>0.0</td><td>0.0</td><td>0.479425538604203</td></tr><tr><td>Sin(x)</td><td>1/2</td><td>4</td><td>0.4791666666666667</td><td>-0.000539962761036883</td><td>0.000539962761036883</td><td>0.479425538604203</td></tr><tr><td>Sin(x)</td><td>1/2</td><td>16</td><td>0.479425538604203</td><td>0.0</td><td>0.0</td><td>0.479425538604203</td></tr><tr><td>Sin(x)</td><td>1/2</td><td>64</td><td>0.479425538604203</td><td>0.0</td><td>0.0</td><td>0.479425538604203</td></tr><tr><td>-</td><td>-</td><td>-</td><td>-</td><td>-</td><td>-</td><td>-</td></tr><tr><td>Sin(x)</td><td>1</td><td>Exact</td><td>0.8414709848078965</td><td>0.0</td><td>0.0</td><td>0.8414709848078965</td></tr><tr><td>Sin(x)</td><td>1</td><td>4</td><td>0.8333333333333334</td><td>-0.00967074518489894</td><td>0.00967074518489894</td><td>0.8414709848078965</td></tr><tr><td>Sin(x)</td><td>1</td><td>16</td><td>0.8414709848078937</td><td>-3.2984590219667964e-15</td><td>3.2984590219667964e-15</td><td>0.8414709848078965</td></tr><tr><td>Sin(x)</td><td>1</td><td>64</td><td>0.8414709848078965</td><td>0.0</td><td>0.0</td><td>0.8414709848078965</td></tr><tr><td>-</td><td>-</td><td>-</td><td>-</td><td>-</td><td>-</td><td>-</td></tr><tr><td>Sin(x)</td><td>2</td><td>Exact</td><td>0.9092974268256817</td><td>0.0</td><td>0.0</td><td>0.9092974268256817</td></tr><tr><td>Sin(x)</td><td>2</td><td>4</td><td>0.6666666666666667</td><td>-0.26683321980358893</td><td>0.26683321980358893</td><td>0.9092974268256817</td></tr><tr><td>Sin(x)</td><td>2</td><td>16</td><td>0.9092974264614476</td><td>-4.005664995743715e-10</td><td>4.005664995743715e-10</td><td>0.9092974268256817</td></tr><tr><td>Sin(x)</td><td>2</td><td>64</td><td>0.9092974268256817</td><td>0.0</td><td>0.0</td><td>0.9092974268256817</td></tr><tr><td>-</td><td>-</td><td>-</td><td>-</td><td>-</td><td>-</td><td>-</td></tr><tr><td>Exp(x)</td><td>1/4</td><td>Exact</td><td>1.2840254166877414</td><td>0.0</td><td>0.0</td><td>1.2840254166877414</td></tr><tr><td>Exp(x)</td><td>1/4</td><td>4</td><td>1.2840169270833335</td><td>-6.6117105608491115e-06</td><td>6.6117105608491115e-06</td><td>1.2840254166877414</td></tr><tr><td>Exp(x)</td><td>1/4</td><td>16</td><td>1.2840254166877418</td><td>3.458570243847902e-16</td><td>3.458570243847902e-16</td><td>1.2840254166877414</td></tr><tr><td>Exp(x)</td><td>1/4</td><td>64</td><td>1.2840254166877418</td><td>3.458570243847902e-16</td><td>3.458570243847902e-16</td><td>1.2840254166877414</td></tr><tr><td>-</td><td>-</td><td>-</td><td>-</td><td>-</td><td>-</td><td>-</td></tr><tr><td>Exp(x)</td><td>1/2</td><td>Exact</td><td>1.6487212707001282</td><td>0.0</td><td>0.0</td><td>1.6487212707001282</td></tr><tr><td>Exp(x)</td><td>1/2</td><td>4</td><td>1.6484375</td><td>-0.00017211562995586948</td><td>0.00017211562995586948</td><td>1.6487212707001282</td></tr><tr><td>Exp(x)</td><td>1/2</td><td>16</td><td>1.6487212707001278</td><td>-2.693537214216206e-16</td><td>2.693537214216206e-16</td><td>1.6487212707001282</td></tr><tr><td>Exp(x)</td><td>1/2</td><td>64</td><td>1.6487212707001278</td><td>-2.693537214216206e-16</td><td>2.693537214216206e-16</td><td>1.6487212707001282</td></tr><tr><td>-</td><td>-</td><td>-</td><td>-</td><td>-</td><td>-</td><td>-</td></tr><tr><td>Exp(x)</td><td>1</td><td>Exact</td><td>2.718281828459045</td><td>0.0</td><td>0.0</td><td>2.718281828459045</td></tr><tr><td>Exp(x)</td><td>1</td><td>4</td><td>2.708333333333333</td><td>-0.003659846827343768</td><td>0.003659846827343768</td><td>2.718281828459045</td></tr><tr><td>Exp(x)</td><td>1</td><td>16</td><td>2.718281828459043</td><td>-8.168564517495421e-16</td><td>8.168564517495421e-16</td><td>2.718281828459045</td></tr><tr><td>Exp(x)</td><td>1</td><td>64</td><td>2.7182818284590455</td><td>1.6337129034990842e-16</td><td>1.6337129034990842e-16</td><td>2.718281828459045</td></tr><tr><td>-</td><td>-</td><td>-</td><td>-</td><td>-</td><td>-</td><td>-</td></tr><tr><td>Exp(x)</td><td>2</td><td>Exact</td><td>7.38905609893065</td><td>0.0</td><td>0.0</td><td>7.38905609893065</td></tr><tr><td>Exp(x)</td><td>2</td><td>4</td><td>7.0</td><td>-0.05265301734371118</td><td>0.05265301734371118</td><td>7.38905609893065</td></tr><tr><td>Exp(x)</td><td>2</td><td>16</td><td>7.389056098516415</td><td>-5.606071347422176e-11</td><td>5.606071347422176e-11</td><td>7.38905609893065</td></tr><tr><td>Exp(x)</td><td>2</td><td>64</td><td>7.389056098930649</td><td>-2.4040375598952704e-16</td><td>2.4040375598952704e-16</td><td>7.38905609893065</td></tr><tr><td>-</td><td>-</td><td>-</td><td>-</td><td>-</td><td>-</td><td>-</td></tr><tr><td>Cosh(x)</td><td>1/4</td><td>Exact</td><td>1.0314130998795732</td><td>0.0</td><td>0.0</td><td>1.0314130998795732</td></tr><tr><td>Cosh(x)</td><td>1/4</td><td>4</td><td>1.0314127604166667</td><td>-3.291240982792398e-07</td><td>3.291240982792398e-07</td><td>1.0314130998795732</td></tr><tr><td>Cosh(x)</td><td>1/4</td><td>16</td><td>1.0314130998795734</td><td>2.1528193209002e-16</td><td>2.1528193209002e-16</td><td>1.0314130998795732</td></tr><tr><td>Cosh(x)</td><td>1/4</td><td>64</td><td>1.0314130998795734</td><td>2.1528193209002e-16</td><td>2.1528193209002e-16</td><td>1.0314130998795732</td></tr><tr><td>-</td><td>-</td><td>-</td><td>-</td><td>-</td><td>-</td><td>-</td></tr><tr><td>Cosh(x)</td><td>1/2</td><td>Exact</td><td>1.1276259652063807</td><td>0.0</td><td>0.0</td><td>1.1276259652063807</td></tr><tr><td>Cosh(x)</td><td>1/2</td><td>4</td><td>1.1276041666666667</td><td>-1.9331356661309134e-05</td><td>1.9331356661309134e-05</td><td>1.1276259652063807</td></tr><tr><td>Cosh(x)</td><td>1/2</td><td>16</td><td>1.1276259652063807</td><td>0.0</td><td>0.0</td><td>1.1276259652063807</td></tr><tr><td>Cosh(x)</td><td>1/2</td><td>64</td><td>1.1276259652063807</td><td>0.0</td><td>0.0</td><td>1.1276259652063807</td></tr><tr><td>-</td><td>-</td><td>-</td><td>-</td><td>-</td><td>-</td><td>-</td></tr><tr><td>Cosh(x)</td><td>1</td><td>Exact</td><td>1.5430806348152437</td><td>0.0</td><td>0.0</td><td>1.5430806348152437</td></tr><tr><td>Cosh(x)</td><td>1</td><td>4</td><td>1.5416666666666667</td><td>-0.0009163281015099182</td><td>0.0009163281015099182</td><td>1.5430806348152437</td></tr><tr><td>Cosh(x)</td><td>1</td><td>16</td><td>1.5430806348152437</td><td>0.0</td><td>0.0</td><td>1.5430806348152437</td></tr><tr><td>Cosh(x)</td><td>1</td><td>64</td><td>1.543080634815244</td><td>1.4389695516567557e-16</td><td>1.4389695516567557e-16</td><td>1.5430806348152437</td></tr><tr><td>-</td><td>-</td><td>-</td><td>-</td><td>-</td><td>-</td><td>-</td></tr><tr><td>Cosh(x)</td><td>2</td><td>Exact</td><td>3.7621956910836314</td><td>0.0</td><td>0.0</td><td>3.7621956910836314</td></tr><tr><td>Cosh(x)</td><td>2</td><td>4</td><td>3.6666666666666665</td><td>-0.02539182760837448</td><td>0.02539182760837448</td><td>3.7621956910836314</td></tr><tr><td>Cosh(x)</td><td>2</td><td>16</td><td>3.762195691042252</td><td>-1.0998721967992732e-11</td><td>1.0998721967992732e-11</td><td>3.7621956910836314</td></tr><tr><td>Cosh(x)</td><td>2</td><td>64</td><td>3.762195691083632</td><td>1.18039901779312e-16</td><td>1.18039901779312e-16</td><td>3.7621956910836314</td></tr></table>"
      ],
      "text/plain": [
       "<IPython.core.display.HTML object>"
      ]
     },
     "metadata": {},
     "output_type": "display_data"
    }
   ],
   "source": [
    "from IPython.display import HTML, display\n",
    "\n",
    "table = [['Function','X used', 'N used','Value','Relative error','Absolute error','Exact Value'], \n",
    "['Sin(x)', '1/4', 'Exact', exactsinx1, (exactsinx1-exactsinx1)/exactsinx1, abs((exactsinx1-exactsinx1)/exactsinx1), exactsinx1],\n",
    "['Sin(x)', '1/4', '4', taylorsin(x1, n1), (taylorsin(x1, n1)-exactsinx1)/exactsinx1, abs((taylorsin(x1, n1)-exactsinx1)/exactsinx1), exactsinx1],\n",
    "['Sin(x)', '1/4', '16', taylorsin(x1, n2), (taylorsin(x1, n2)-exactsinx1)/exactsinx1, abs((taylorsin(x1, n2)-exactsinx1)/exactsinx1), exactsinx1],\n",
    "['Sin(x)', '1/4', '64', taylorsin(x1, n3), (taylorsin(x1, n3)-exactsinx1)/exactsinx1, abs((taylorsin(x1, n3)-exactsinx1)/exactsinx1), exactsinx1],\n",
    "['-','-','-','-','-','-','-'],\n",
    "['Sin(x)', '1/2', 'Exact', exactsinx2, (exactsinx2-exactsinx2)/exactsinx2, abs((exactsinx2-exactsinx2)/exactsinx2), exactsinx2],\n",
    "['Sin(x)', '1/2', '4', taylorsin(x2,n1), (taylorsin(x2,n1)-exactsinx2)/exactsinx2, abs((taylorsin(x2,n1)-exactsinx2)/exactsinx2), exactsinx2],\n",
    "['Sin(x)', '1/2', '16', taylorsin(x2,n2), (taylorsin(x2,n2)-exactsinx2)/exactsinx2, abs((taylorsin(x2,n2)-exactsinx2)/exactsinx2), exactsinx2],\n",
    "['Sin(x)', '1/2', '64', taylorsin(x2,n3), (taylorsin(x2,n3)-exactsinx2)/exactsinx2, abs((taylorsin(x2,n3)-exactsinx2)/exactsinx2), exactsinx2],\n",
    "         ['-','-','-','-','-','-','-'],\n",
    "['Sin(x)', '1', 'Exact', exactsinx3, (exactsinx3-exactsinx3)/exactsinx3, abs((exactsinx3-exactsinx3)/exactsinx3), exactsinx3],\n",
    "['Sin(x)', '1', '4', taylorsin(x3,n1), (taylorsin(x3,n1)-exactsinx3)/exactsinx3, abs((taylorsin(x3,n1)-exactsinx3)/exactsinx3), exactsinx3],\n",
    "['Sin(x)', '1', '16', taylorsin(x3,n2), (taylorsin(x3,n2)-exactsinx3)/exactsinx3, abs((taylorsin(x3,n2)-exactsinx3)/exactsinx3), exactsinx3],\n",
    "['Sin(x)', '1', '64', taylorsin(x3,n3), (taylorsin(x3,n3)-exactsinx3)/exactsinx3, abs((taylorsin(x3,n3)-exactsinx3)/exactsinx3), exactsinx3],\n",
    "         ['-','-','-','-','-','-','-'],\n",
    "['Sin(x)', '2', 'Exact', exactsinx4, (exactsinx4-exactsinx4)/exactsinx4, abs((exactsinx4-exactsinx4)/exactsinx4), exactsinx4],\n",
    "['Sin(x)', '2', '4', taylorsin(x4,n1), (taylorsin(x4,n1)-exactsinx4)/exactsinx4, abs((taylorsin(x4,n1)-exactsinx4)/exactsinx4), exactsinx4],\n",
    "['Sin(x)', '2', '16', taylorsin(x4,n2), (taylorsin(x4,n2)-exactsinx4)/exactsinx4, abs((taylorsin(x4,n2)-exactsinx4)/exactsinx4), exactsinx4],\n",
    "['Sin(x)', '2', '64', taylorsin(x4,n3), (taylorsin(x4,n3)-exactsinx4)/exactsinx4, abs((taylorsin(x4,n3)-exactsinx4)/exactsinx4), exactsinx4],\n",
    "         ['-','-','-','-','-','-','-'],\n",
    "['Exp(x)', '1/4', 'Exact', exactexp1, (exactexp1-exactexp1)/exactexp1, abs((exactexp1-exactexp1)/exactexp1), exactexp1],\n",
    "['Exp(x)', '1/4', '4', taylorexp(x1,n1), (taylorexp(x1,n1)-exactexp1)/exactexp1, abs((taylorexp(x1,n1)-exactexp1)/exactexp1), exactexp1],\n",
    "['Exp(x)', '1/4', '16', taylorexp(x1,n2), (taylorexp(x1,n2)-exactexp1)/exactexp1, abs((taylorexp(x1,n2)-exactexp1)/exactexp1), exactexp1],\n",
    "['Exp(x)', '1/4', '64', taylorexp(x1,n3), (taylorexp(x1,n3)-exactexp1)/exactexp1, abs((taylorexp(x1,n3)-exactexp1)/exactexp1), exactexp1],\n",
    "         ['-','-','-','-','-','-','-'],\n",
    "['Exp(x)', '1/2', 'Exact', exactexp2, (exactexp2-exactexp2)/exactexp2, abs((exactexp2-exactexp2)/exactexp2), exactexp2],\n",
    "['Exp(x)', '1/2', '4', taylorexp(x2,n1), (taylorexp(x2,n1)-exactexp2)/exactexp2, abs((taylorexp(x2,n1)-exactexp2)/exactexp2), exactexp2],\n",
    "['Exp(x)', '1/2', '16', taylorexp(x2,n2), (taylorexp(x2,n2)-exactexp2)/exactexp2, abs((taylorexp(x2,n2)-exactexp2)/exactexp2), exactexp2],\n",
    "['Exp(x)', '1/2', '64', taylorexp(x2,n3), (taylorexp(x2,n3)-exactexp2)/exactexp2, abs((taylorexp(x2,n3)-exactexp2)/exactexp2), exactexp2],\n",
    "         ['-','-','-','-','-','-','-'],\n",
    "['Exp(x)', '1', 'Exact', exactexp3, (exactexp3-exactexp3)/exactexp3, abs((exactexp3-exactexp3)/exactexp3), exactexp3],\n",
    "['Exp(x)', '1', '4', taylorexp(x3,n1), (taylorexp(x3,n1)-exactexp3)/exactexp3, abs((taylorexp(x3,n1)-exactexp3)/exactexp3), exactexp3],\n",
    "['Exp(x)', '1', '16', taylorexp(x3,n2), (taylorexp(x3,n2)-exactexp3)/exactexp3, abs((taylorexp(x3,n2)-exactexp3)/exactexp3), exactexp3],\n",
    "['Exp(x)', '1', '64', taylorexp(x3,n3), (taylorexp(x3,n3)-exactexp3)/exactexp3, abs((taylorexp(x3,n3)-exactexp3)/exactexp3), exactexp3],\n",
    "         ['-','-','-','-','-','-','-'],\n",
    "['Exp(x)', '2', 'Exact', exactexp4, (exactexp4-exactexp4)/exactexp4, abs((exactexp4-exactexp4)/exactexp4), exactexp4],\n",
    "['Exp(x)', '2', '4', taylorexp(x4,n1), (taylorexp(x4,n1)-exactexp4)/exactexp4, abs((taylorexp(x4,n1)-exactexp4)/exactexp4), exactexp4],\n",
    "['Exp(x)', '2', '16', taylorexp(x4,n2), (taylorexp(x4,n2)-exactexp4)/exactexp4, abs((taylorexp(x4,n2)-exactexp4)/exactexp4), exactexp4],\n",
    "['Exp(x)', '2', '64', taylorexp(x4,n3), (taylorexp(x4,n3)-exactexp4)/exactexp4, abs((taylorexp(x4,n3)-exactexp4)/exactexp4), exactexp4],\n",
    "         ['-','-','-','-','-','-','-'],\n",
    "['Cosh(x)', '1/4', 'Exact', exactcoshx1, (exactcoshx1-exactcoshx1)/exactcoshx1, abs((exactcoshx1-exactcoshx1)/exactcoshx1), exactcoshx1],\n",
    "['Cosh(x)', '1/4', '4', taylorcosh(x1,n1), (taylorcosh(x1,n1)-exactcoshx1)/exactcoshx1, abs((taylorcosh(x1,n1)-exactcoshx1)/exactcoshx1), exactcoshx1],\n",
    "['Cosh(x)', '1/4', '16', taylorcosh(x1,n2), (taylorcosh(x1,n2)-exactcoshx1)/exactcoshx1, abs((taylorcosh(x1,n2)-exactcoshx1)/exactcoshx1), exactcoshx1],\n",
    "['Cosh(x)', '1/4', '64', taylorcosh(x1,n3), (taylorcosh(x1,n3)-exactcoshx1)/exactcoshx1, abs((taylorcosh(x1,n3)-exactcoshx1)/exactcoshx1), exactcoshx1],\n",
    "         ['-','-','-','-','-','-','-'],\n",
    "['Cosh(x)', '1/2', 'Exact', exactcoshx2, (exactcoshx2-exactcoshx2)/exactcoshx2, abs((exactcoshx2-exactcoshx2)/exactcoshx2), exactcoshx2],\n",
    "['Cosh(x)', '1/2', '4', taylorcosh(x2,n1), (taylorcosh(x2,n1)-exactcoshx2)/exactcoshx2, abs((taylorcosh(x2,n1)-exactcoshx2)/exactcoshx2), exactcoshx2],\n",
    "['Cosh(x)', '1/2', '16', taylorcosh(x2,n2), (taylorcosh(x2,n2)-exactcoshx2)/exactcoshx2, abs((taylorcosh(x2,n2)-exactcoshx2)/exactcoshx2), exactcoshx2],\n",
    "['Cosh(x)', '1/2', '64', taylorcosh(x2,n3), (taylorcosh(x2,n3)-exactcoshx2)/exactcoshx2, abs((taylorcosh(x2,n3)-exactcoshx2)/exactcoshx2), exactcoshx2],\n",
    "         ['-','-','-','-','-','-','-'],\n",
    "['Cosh(x)', '1', 'Exact', exactcoshx3, (exactcoshx3-exactcoshx3)/exactcoshx3, abs((exactcoshx3-exactcoshx3)/exactcoshx3), exactcoshx3],\n",
    "['Cosh(x)', '1', '4', taylorcosh(x3,n1), (taylorcosh(x3,n1)-exactcoshx3)/exactcoshx3, abs((taylorcosh(x3,n1)-exactcoshx3)/exactcoshx3), exactcoshx3],\n",
    "['Cosh(x)', '1', '16', taylorcosh(x3,n2), (taylorcosh(x3,n2)-exactcoshx3)/exactcoshx3, abs((taylorcosh(x3,n2)-exactcoshx3)/exactcoshx3), exactcoshx3],\n",
    "['Cosh(x)', '1', '64', taylorcosh(x3,n3), (taylorcosh(x3,n3)-exactcoshx3)/exactcoshx3, abs((taylorcosh(x3,n3)-exactcoshx3)/exactcoshx3), exactcoshx3],\n",
    "         ['-','-','-','-','-','-','-'],\n",
    "['Cosh(x)', '2', 'Exact', exactcoshx4, (exactcoshx4-exactcoshx4)/exactcoshx4, abs((exactcoshx4-exactcoshx4)/exactcoshx4), exactcoshx4],\n",
    "['Cosh(x)', '2', '4', taylorcosh(x4,n1), (taylorcosh(x4,n1)-exactcoshx4)/exactcoshx4, abs((taylorcosh(x4,n1)-exactcoshx4)/exactcoshx4), exactcoshx4],\n",
    "['Cosh(x)', '2', '16', taylorcosh(x4,n2), (taylorcosh(x4,n2)-exactcoshx4)/exactcoshx4, abs((taylorcosh(x4,n2)-exactcoshx4)/exactcoshx4), exactcoshx4],\n",
    "['Cosh(x)', '2', '64', taylorcosh(x4,n3), (taylorcosh(x4,n3)-exactcoshx4)/exactcoshx4, abs((taylorcosh(x4,n3)-exactcoshx4)/exactcoshx4), exactcoshx4]]\n",
    "\n",
    "display(HTML(\n",
    "   '<table><tr>{}</tr></table>'.format(\n",
    "       '</tr><tr>'.join(\n",
    "           '<td>{}</td>'.format('</td><td>'.join(str(_) for _ in row)) for row in table)\n",
    "       )\n",
    "))"
   ]
  },
  {
   "cell_type": "markdown",
   "metadata": {},
   "source": [
    "As expected, Taylor series gets more accurate with larger ns. In some cases, it gets to a point where it can accurately predict values. This pattern is more recurring in sin than in the others, but since sine and cosh have a repeating pattern it's easier to predict their values. Exp is the only one completely to have error rates throughout their computations. But otherwise Taylor functions are working very well to compute a function given n is a high number. "
   ]
  }
 ],
 "metadata": {
  "kernelspec": {
   "display_name": "Python 3",
   "language": "python",
   "name": "python3"
  },
  "language_info": {
   "codemirror_mode": {
    "name": "ipython",
    "version": 3
   },
   "file_extension": ".py",
   "mimetype": "text/x-python",
   "name": "python",
   "nbconvert_exporter": "python",
   "pygments_lexer": "ipython3",
   "version": "3.7.3"
  }
 },
 "nbformat": 4,
 "nbformat_minor": 2
}
